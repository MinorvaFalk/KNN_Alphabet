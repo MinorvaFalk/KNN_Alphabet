{
 "cells": [
  {
   "cell_type": "code",
   "execution_count": null,
   "metadata": {},
   "outputs": [],
   "source": [
    "!pip install opencv-python\n",
    "!pip install mediapipe\n",
    "!pip install scikit-learn"
   ]
  },
  {
   "cell_type": "markdown",
   "metadata": {},
   "source": [
    "# 1. Importing libraries and defining dataset"
   ]
  },
  {
   "cell_type": "code",
   "execution_count": 1,
   "metadata": {},
   "outputs": [],
   "source": [
    "# For capturing hand coordinates\n",
    "import cv2\n",
    "import mediapipe as mp\n",
    "\n",
    "# For processing data\n",
    "import pandas as pd\n",
    "import numpy as np"
   ]
  },
  {
   "cell_type": "code",
   "execution_count": 2,
   "metadata": {},
   "outputs": [
    {
     "data": {
      "text/html": [
       "<div>\n",
       "<style scoped>\n",
       "    .dataframe tbody tr th:only-of-type {\n",
       "        vertical-align: middle;\n",
       "    }\n",
       "\n",
       "    .dataframe tbody tr th {\n",
       "        vertical-align: top;\n",
       "    }\n",
       "\n",
       "    .dataframe thead th {\n",
       "        text-align: right;\n",
       "    }\n",
       "</style>\n",
       "<table border=\"1\" class=\"dataframe\">\n",
       "  <thead>\n",
       "    <tr style=\"text-align: right;\">\n",
       "      <th></th>\n",
       "      <th>class</th>\n",
       "      <th>x1</th>\n",
       "      <th>y1</th>\n",
       "      <th>x2</th>\n",
       "      <th>y2</th>\n",
       "      <th>x3</th>\n",
       "      <th>y3</th>\n",
       "      <th>x4</th>\n",
       "      <th>y4</th>\n",
       "      <th>x5</th>\n",
       "      <th>...</th>\n",
       "      <th>x17</th>\n",
       "      <th>y17</th>\n",
       "      <th>x18</th>\n",
       "      <th>y18</th>\n",
       "      <th>x19</th>\n",
       "      <th>y19</th>\n",
       "      <th>x20</th>\n",
       "      <th>y20</th>\n",
       "      <th>x21</th>\n",
       "      <th>y21</th>\n",
       "    </tr>\n",
       "  </thead>\n",
       "  <tbody>\n",
       "    <tr>\n",
       "      <th>0</th>\n",
       "      <td>A</td>\n",
       "      <td>0.295849</td>\n",
       "      <td>0.679613</td>\n",
       "      <td>0.209038</td>\n",
       "      <td>0.612926</td>\n",
       "      <td>0.147883</td>\n",
       "      <td>0.522415</td>\n",
       "      <td>0.125748</td>\n",
       "      <td>0.439133</td>\n",
       "      <td>0.130589</td>\n",
       "      <td>...</td>\n",
       "      <td>0.295946</td>\n",
       "      <td>0.572083</td>\n",
       "      <td>0.362726</td>\n",
       "      <td>0.507097</td>\n",
       "      <td>0.362393</td>\n",
       "      <td>0.452241</td>\n",
       "      <td>0.351849</td>\n",
       "      <td>0.504388</td>\n",
       "      <td>0.340516</td>\n",
       "      <td>0.553928</td>\n",
       "    </tr>\n",
       "    <tr>\n",
       "      <th>1</th>\n",
       "      <td>A</td>\n",
       "      <td>0.277914</td>\n",
       "      <td>0.728127</td>\n",
       "      <td>0.168684</td>\n",
       "      <td>0.634556</td>\n",
       "      <td>0.107125</td>\n",
       "      <td>0.489586</td>\n",
       "      <td>0.104561</td>\n",
       "      <td>0.368203</td>\n",
       "      <td>0.126103</td>\n",
       "      <td>...</td>\n",
       "      <td>0.284394</td>\n",
       "      <td>0.614332</td>\n",
       "      <td>0.458914</td>\n",
       "      <td>0.482608</td>\n",
       "      <td>0.402338</td>\n",
       "      <td>0.455794</td>\n",
       "      <td>0.359927</td>\n",
       "      <td>0.538472</td>\n",
       "      <td>0.352813</td>\n",
       "      <td>0.605610</td>\n",
       "    </tr>\n",
       "    <tr>\n",
       "      <th>2</th>\n",
       "      <td>A</td>\n",
       "      <td>0.273304</td>\n",
       "      <td>0.750424</td>\n",
       "      <td>0.153818</td>\n",
       "      <td>0.649119</td>\n",
       "      <td>0.087932</td>\n",
       "      <td>0.492969</td>\n",
       "      <td>0.090790</td>\n",
       "      <td>0.370735</td>\n",
       "      <td>0.114260</td>\n",
       "      <td>...</td>\n",
       "      <td>0.292044</td>\n",
       "      <td>0.643904</td>\n",
       "      <td>0.450758</td>\n",
       "      <td>0.495144</td>\n",
       "      <td>0.392497</td>\n",
       "      <td>0.475129</td>\n",
       "      <td>0.353110</td>\n",
       "      <td>0.558542</td>\n",
       "      <td>0.348972</td>\n",
       "      <td>0.624010</td>\n",
       "    </tr>\n",
       "    <tr>\n",
       "      <th>3</th>\n",
       "      <td>A</td>\n",
       "      <td>0.260779</td>\n",
       "      <td>0.758578</td>\n",
       "      <td>0.142449</td>\n",
       "      <td>0.658145</td>\n",
       "      <td>0.081542</td>\n",
       "      <td>0.496756</td>\n",
       "      <td>0.090102</td>\n",
       "      <td>0.373770</td>\n",
       "      <td>0.115699</td>\n",
       "      <td>...</td>\n",
       "      <td>0.282037</td>\n",
       "      <td>0.659344</td>\n",
       "      <td>0.449754</td>\n",
       "      <td>0.502502</td>\n",
       "      <td>0.380867</td>\n",
       "      <td>0.484203</td>\n",
       "      <td>0.343782</td>\n",
       "      <td>0.567716</td>\n",
       "      <td>0.341316</td>\n",
       "      <td>0.632237</td>\n",
       "    </tr>\n",
       "    <tr>\n",
       "      <th>4</th>\n",
       "      <td>A</td>\n",
       "      <td>0.264733</td>\n",
       "      <td>0.761643</td>\n",
       "      <td>0.144033</td>\n",
       "      <td>0.670212</td>\n",
       "      <td>0.077731</td>\n",
       "      <td>0.505519</td>\n",
       "      <td>0.080886</td>\n",
       "      <td>0.379795</td>\n",
       "      <td>0.101522</td>\n",
       "      <td>...</td>\n",
       "      <td>0.289165</td>\n",
       "      <td>0.674617</td>\n",
       "      <td>0.432672</td>\n",
       "      <td>0.504809</td>\n",
       "      <td>0.386974</td>\n",
       "      <td>0.488224</td>\n",
       "      <td>0.355972</td>\n",
       "      <td>0.573528</td>\n",
       "      <td>0.350644</td>\n",
       "      <td>0.638745</td>\n",
       "    </tr>\n",
       "  </tbody>\n",
       "</table>\n",
       "<p>5 rows × 43 columns</p>\n",
       "</div>"
      ],
      "text/plain": [
       "  class        x1        y1        x2        y2        x3        y3        x4  \\\n",
       "0     A  0.295849  0.679613  0.209038  0.612926  0.147883  0.522415  0.125748   \n",
       "1     A  0.277914  0.728127  0.168684  0.634556  0.107125  0.489586  0.104561   \n",
       "2     A  0.273304  0.750424  0.153818  0.649119  0.087932  0.492969  0.090790   \n",
       "3     A  0.260779  0.758578  0.142449  0.658145  0.081542  0.496756  0.090102   \n",
       "4     A  0.264733  0.761643  0.144033  0.670212  0.077731  0.505519  0.080886   \n",
       "\n",
       "         y4        x5  ...       x17       y17       x18       y18       x19  \\\n",
       "0  0.439133  0.130589  ...  0.295946  0.572083  0.362726  0.507097  0.362393   \n",
       "1  0.368203  0.126103  ...  0.284394  0.614332  0.458914  0.482608  0.402338   \n",
       "2  0.370735  0.114260  ...  0.292044  0.643904  0.450758  0.495144  0.392497   \n",
       "3  0.373770  0.115699  ...  0.282037  0.659344  0.449754  0.502502  0.380867   \n",
       "4  0.379795  0.101522  ...  0.289165  0.674617  0.432672  0.504809  0.386974   \n",
       "\n",
       "        y19       x20       y20       x21       y21  \n",
       "0  0.452241  0.351849  0.504388  0.340516  0.553928  \n",
       "1  0.455794  0.359927  0.538472  0.352813  0.605610  \n",
       "2  0.475129  0.353110  0.558542  0.348972  0.624010  \n",
       "3  0.484203  0.343782  0.567716  0.341316  0.632237  \n",
       "4  0.488224  0.355972  0.573528  0.350644  0.638745  \n",
       "\n",
       "[5 rows x 43 columns]"
      ]
     },
     "execution_count": 2,
     "metadata": {},
     "output_type": "execute_result"
    }
   ],
   "source": [
    "dataset = pd.read_csv('./Dataset/hand_dataset_1000_24.csv')\n",
    "\n",
    "# Show dataset first five data\n",
    "dataset.head()"
   ]
  },
  {
   "cell_type": "code",
   "execution_count": 3,
   "metadata": {},
   "outputs": [
    {
     "data": {
      "text/plain": [
       "K    1000\n",
       "D    1000\n",
       "X    1000\n",
       "S    1000\n",
       "G    1000\n",
       "U    1000\n",
       "R    1000\n",
       "A    1000\n",
       "Q    1000\n",
       "N    1000\n",
       "V    1000\n",
       "P    1000\n",
       "E    1000\n",
       "W    1000\n",
       "H    1000\n",
       "T    1000\n",
       "M    1000\n",
       "I    1000\n",
       "L    1000\n",
       "O    1000\n",
       "F    1000\n",
       "B    1000\n",
       "Y    1000\n",
       "C    1000\n",
       "Name: class, dtype: int64"
      ]
     },
     "execution_count": 3,
     "metadata": {},
     "output_type": "execute_result"
    }
   ],
   "source": [
    "# Show dataset overview, should return 1000 for each alphabet (excluding y and z)\n",
    "dataset['class'].value_counts()"
   ]
  },
  {
   "cell_type": "markdown",
   "metadata": {},
   "source": [
    "# 2. Creating Train and Test Data\n",
    "- We use *train_test_split* since we don't really have test dataset.\n",
    "- Normalizing dataset can be ignored, since we predict our data directly using raw handlandmark. "
   ]
  },
  {
   "cell_type": "code",
   "execution_count": 4,
   "metadata": {},
   "outputs": [],
   "source": [
    "# Defining X and Y from dataset for training and testing\n",
    "\n",
    "X = dataset.iloc[:, 1:].values\n",
    "Y = dataset.iloc[:, 0].values"
   ]
  },
  {
   "cell_type": "code",
   "execution_count": 5,
   "metadata": {},
   "outputs": [],
   "source": [
    "from sklearn.model_selection import train_test_split\n",
    "\n",
    "# We will take 33% from 1000 for our test data.\n",
    "# Recommended value 80:20, 67:33, 50:50\n",
    "X_train, X_test, y_train, y_test = train_test_split(X, Y, test_size=0.33)"
   ]
  },
  {
   "cell_type": "code",
   "execution_count": 6,
   "metadata": {},
   "outputs": [],
   "source": [
    "#Normalize / Standarize dataset\n",
    "\n",
    "from sklearn.preprocessing import StandardScaler\n",
    "scaler = StandardScaler().fit(X_train)\n",
    "\n",
    "X_train = scaler.transform(X_train)\n",
    "X_test = scaler.transform(X_test)"
   ]
  },
  {
   "cell_type": "markdown",
   "metadata": {},
   "source": [
    "# 3. Creating classifier model for our alphabet recognition.\n",
    "- *n_neighbors* can be adjusted as we provide graph for mean errors for each *n_neighbors*"
   ]
  },
  {
   "cell_type": "code",
   "execution_count": 7,
   "metadata": {},
   "outputs": [
    {
     "data": {
      "text/plain": [
       "KNeighborsClassifier(n_neighbors=3)"
      ]
     },
     "execution_count": 7,
     "metadata": {},
     "output_type": "execute_result"
    }
   ],
   "source": [
    "from sklearn.neighbors import KNeighborsClassifier\n",
    "classifier = KNeighborsClassifier(n_neighbors=3)\n",
    "classifier.fit(X_train, y_train)"
   ]
  },
  {
   "cell_type": "markdown",
   "metadata": {},
   "source": [
    "# 4. Calculate model accuracy"
   ]
  },
  {
   "cell_type": "code",
   "execution_count": 8,
   "metadata": {},
   "outputs": [],
   "source": [
    "y_pred = classifier.predict(X_test)"
   ]
  },
  {
   "cell_type": "code",
   "execution_count": 9,
   "metadata": {},
   "outputs": [
    {
     "name": "stdout",
     "output_type": "stream",
     "text": [
      "              precision    recall  f1-score   support\n",
      "\n",
      "           A       0.93      0.99      0.96       297\n",
      "           B       0.96      0.99      0.97       325\n",
      "           C       0.97      0.99      0.98       335\n",
      "           D       0.98      0.97      0.97       339\n",
      "           E       0.93      0.97      0.95       320\n",
      "           F       0.98      0.98      0.98       316\n",
      "           G       0.98      0.99      0.98       361\n",
      "           H       0.98      0.99      0.99       328\n",
      "           I       0.97      0.97      0.97       343\n",
      "           K       0.94      0.98      0.96       332\n",
      "           L       0.98      0.98      0.98       330\n",
      "           M       0.85      0.84      0.84       311\n",
      "           N       0.85      0.84      0.85       332\n",
      "           O       0.97      0.93      0.95       339\n",
      "           P       0.96      0.94      0.95       327\n",
      "           Q       0.94      0.96      0.95       322\n",
      "           R       0.90      0.91      0.91       321\n",
      "           S       0.93      0.92      0.93       292\n",
      "           T       0.97      0.94      0.96       342\n",
      "           U       0.84      0.86      0.85       331\n",
      "           V       0.92      0.84      0.88       339\n",
      "           W       0.99      0.97      0.98       349\n",
      "           X       0.94      0.92      0.93       343\n",
      "           Y       0.98      0.94      0.96       346\n",
      "\n",
      "    accuracy                           0.94      7920\n",
      "   macro avg       0.94      0.94      0.94      7920\n",
      "weighted avg       0.94      0.94      0.94      7920\n",
      "\n",
      "0.9440656565656566\n"
     ]
    }
   ],
   "source": [
    "from sklearn.metrics import classification_report, accuracy_score\n",
    "print(classification_report(y_test, y_pred))\n",
    "print(accuracy_score(y_test, y_pred))"
   ]
  },
  {
   "cell_type": "markdown",
   "metadata": {},
   "source": [
    "# 5. Show graph for adjusting number of *n_neighbors*"
   ]
  },
  {
   "cell_type": "code",
   "execution_count": 10,
   "metadata": {},
   "outputs": [],
   "source": [
    "error = []\n",
    "\n",
    "# Calculating error for K values between 1 and 40\n",
    "for i in range(1, 40):\n",
    "    knn = KNeighborsClassifier(n_neighbors=i)\n",
    "    knn.fit(X_train, y_train)\n",
    "    pred_i = knn.predict(X_test)\n",
    "    error.append(np.mean(pred_i != y_test))"
   ]
  },
  {
   "cell_type": "code",
   "execution_count": 11,
   "metadata": {},
   "outputs": [
    {
     "data": {
      "text/plain": [
       "Text(0, 0.5, 'Mean Error')"
      ]
     },
     "execution_count": 11,
     "metadata": {},
     "output_type": "execute_result"
    },
    {
     "data": {
      "image/png": "[encoded data removed]",
      "text/plain": [
       "<Figure size 864x432 with 1 Axes>"
      ]
     },
     "metadata": {
      "needs_background": "light"
     },
     "output_type": "display_data"
    }
   ],
   "source": [
    "import matplotlib.pyplot as plt\n",
    "\n",
    "plt.figure(figsize=(12, 6))\n",
    "plt.plot(range(1, 40), error, color='red', linestyle='dashed', marker='o',\n",
    "         markerfacecolor='blue', markersize=10)\n",
    "plt.title('Error Rate K Value')\n",
    "plt.xlabel('K Value')\n",
    "plt.ylabel('Mean Error')"
   ]
  },
  {
   "cell_type": "markdown",
   "metadata": {},
   "source": [
    "# 6. Intialize Mediapipe Hands for alphabet recognition."
   ]
  },
  {
   "cell_type": "code",
   "execution_count": 12,
   "metadata": {},
   "outputs": [],
   "source": [
    "# Initialize mediapipe hand\n",
    "\n",
    "mp_drawing = mp.solutions.drawing_utils\n",
    "mp_hands = mp.solutions.hands"
   ]
  },
  {
   "cell_type": "code",
   "execution_count": 13,
   "metadata": {},
   "outputs": [],
   "source": [
    "# Initialize mediapipe hand capture webcam\n",
    "\n",
    "cap = cv2.VideoCapture(0)\n",
    "with mp_hands.Hands(\n",
    "    max_num_hands = 1,\n",
    "    min_detection_confidence=0.5,\n",
    "    min_tracking_confidence=0.5) as hands:\n",
    "    while cap.isOpened():\n",
    "        success, image = cap.read()\n",
    "\n",
    "        if not success:\n",
    "            print(\"Ignoring empty camera frame.\")\n",
    "            # If loading a video, use 'break' instead of 'continue'.\n",
    "            continue\n",
    "\n",
    "        # Flip the image horizontally for a later selfie-view display, and convert\n",
    "        # the BGR image to RGB.\n",
    "        image = cv2.cvtColor(cv2.flip(image, 1), cv2.COLOR_BGR2RGB)\n",
    "\n",
    "        # To improve performance, optionally mark the image as not writeable to\n",
    "        # pass by reference.\n",
    "        image.flags.writeable = False\n",
    "        results = hands.process(image)\n",
    "\n",
    "        # Draw the hand annotations on the image.\n",
    "        image.flags.writeable = True\n",
    "        image = cv2.cvtColor(image, cv2.COLOR_RGB2BGR)\n",
    "        if results.multi_hand_landmarks:\n",
    "            for hand_landmarks in results.multi_hand_landmarks:\n",
    "                coords = hand_landmarks.landmark\n",
    "                mp_drawing.draw_landmarks(image, hand_landmarks, mp_hands.HAND_CONNECTIONS)\n",
    "                coords = list(np.array([[landmark.x, landmark.y] for landmark in coords]).flatten())\n",
    "                coords = scaler.transform([coords])\n",
    "                \n",
    "                # Alternative for dataset using z coordinates.\n",
    "                # Z coordinates is not recommended, since you need to adjust your distance from camera.\n",
    "#                 coords = list(np.array([[landmark.x, landmark.y, landmark.z] for landmark in coords]).flatten())\n",
    "                \n",
    "                predicted = classifier.predict(coords)\n",
    "\n",
    "            # Get status box\n",
    "            cv2.rectangle(image, (0,0), (100, 60), (245, 90, 16), -1)\n",
    "\n",
    "            # Display Class\n",
    "            cv2.putText(image, 'CLASS'\n",
    "                        , (20,15), cv2.FONT_HERSHEY_SIMPLEX, 0.5, (0, 0, 0), 1, cv2.LINE_AA)\n",
    "            cv2.putText(image, str(predicted[0])\n",
    "                        , (20,45), cv2.FONT_HERSHEY_SIMPLEX, 1, (255, 255, 255), 2, cv2.LINE_AA)\n",
    "\n",
    "        cv2.imshow('MediaPipe Hands', image)\n",
    "\n",
    "        # Press esc to close webcam\n",
    "        if cv2.waitKey(5) & 0xFF == 27:\n",
    "            break\n",
    "cap.release()\n",
    "cv2.destroyAllWindows()\n"
   ]
  },
  {
   "cell_type": "code",
   "execution_count": null,
   "metadata": {},
   "outputs": [],
   "source": []
  }
 ],
 "metadata": {
  "kernelspec": {
   "display_name": "Python 3",
   "language": "python",
   "name": "python3"
  },
  "language_info": {
   "codemirror_mode": {
    "name": "ipython",
    "version": 3
   },
   "file_extension": ".py",
   "mimetype": "text/x-python",
   "name": "python",
   "nbconvert_exporter": "python",
   "pygments_lexer": "ipython3",
   "version": "3.8.5"
  }
 },
 "nbformat": 4,
 "nbformat_minor": 4
}

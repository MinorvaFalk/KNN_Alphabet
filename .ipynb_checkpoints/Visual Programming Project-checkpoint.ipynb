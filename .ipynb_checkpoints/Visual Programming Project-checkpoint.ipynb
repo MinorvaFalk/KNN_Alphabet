{
 "cells": [
  {
   "cell_type": "markdown",
   "metadata": {},
   "source": [
    "# 1. Importing libraries and defining dataset"
   ]
  },
  {
   "cell_type": "code",
   "execution_count": 1,
   "metadata": {},
   "outputs": [],
   "source": [
    "# For capturing hand coordinates\n",
    "import cv2\n",
    "import mediapipe as mp\n",
    "\n",
    "# For processing data\n",
    "import pandas as pd\n",
    "import numpy as np"
   ]
  },
  {
   "cell_type": "code",
   "execution_count": 2,
   "metadata": {},
   "outputs": [
    {
     "data": {
      "text/html": [
       "<div>\n",
       "<style scoped>\n",
       "    .dataframe tbody tr th:only-of-type {\n",
       "        vertical-align: middle;\n",
       "    }\n",
       "\n",
       "    .dataframe tbody tr th {\n",
       "        vertical-align: top;\n",
       "    }\n",
       "\n",
       "    .dataframe thead th {\n",
       "        text-align: right;\n",
       "    }\n",
       "</style>\n",
       "<table border=\"1\" class=\"dataframe\">\n",
       "  <thead>\n",
       "    <tr style=\"text-align: right;\">\n",
       "      <th></th>\n",
       "      <th>class</th>\n",
       "      <th>x1</th>\n",
       "      <th>y1</th>\n",
       "      <th>x2</th>\n",
       "      <th>y2</th>\n",
       "      <th>x3</th>\n",
       "      <th>y3</th>\n",
       "      <th>x4</th>\n",
       "      <th>y4</th>\n",
       "      <th>x5</th>\n",
       "      <th>...</th>\n",
       "      <th>x17</th>\n",
       "      <th>y17</th>\n",
       "      <th>x18</th>\n",
       "      <th>y18</th>\n",
       "      <th>x19</th>\n",
       "      <th>y19</th>\n",
       "      <th>x20</th>\n",
       "      <th>y20</th>\n",
       "      <th>x21</th>\n",
       "      <th>y21</th>\n",
       "    </tr>\n",
       "  </thead>\n",
       "  <tbody>\n",
       "    <tr>\n",
       "      <th>0</th>\n",
       "      <td>A</td>\n",
       "      <td>0.281764</td>\n",
       "      <td>0.671522</td>\n",
       "      <td>0.204047</td>\n",
       "      <td>0.639323</td>\n",
       "      <td>0.147865</td>\n",
       "      <td>0.556267</td>\n",
       "      <td>0.133358</td>\n",
       "      <td>0.469837</td>\n",
       "      <td>0.145107</td>\n",
       "      <td>...</td>\n",
       "      <td>0.273103</td>\n",
       "      <td>0.561311</td>\n",
       "      <td>0.349547</td>\n",
       "      <td>0.489717</td>\n",
       "      <td>0.332381</td>\n",
       "      <td>0.433374</td>\n",
       "      <td>0.315082</td>\n",
       "      <td>0.499471</td>\n",
       "      <td>0.318164</td>\n",
       "      <td>0.542502</td>\n",
       "    </tr>\n",
       "    <tr>\n",
       "      <th>1</th>\n",
       "      <td>A</td>\n",
       "      <td>0.278017</td>\n",
       "      <td>0.675250</td>\n",
       "      <td>0.204052</td>\n",
       "      <td>0.645245</td>\n",
       "      <td>0.150402</td>\n",
       "      <td>0.564618</td>\n",
       "      <td>0.135634</td>\n",
       "      <td>0.477829</td>\n",
       "      <td>0.144139</td>\n",
       "      <td>...</td>\n",
       "      <td>0.274935</td>\n",
       "      <td>0.559956</td>\n",
       "      <td>0.346485</td>\n",
       "      <td>0.494998</td>\n",
       "      <td>0.332420</td>\n",
       "      <td>0.436448</td>\n",
       "      <td>0.315069</td>\n",
       "      <td>0.500735</td>\n",
       "      <td>0.316826</td>\n",
       "      <td>0.542522</td>\n",
       "    </tr>\n",
       "    <tr>\n",
       "      <th>2</th>\n",
       "      <td>A</td>\n",
       "      <td>0.279680</td>\n",
       "      <td>0.687465</td>\n",
       "      <td>0.202689</td>\n",
       "      <td>0.655011</td>\n",
       "      <td>0.150701</td>\n",
       "      <td>0.573287</td>\n",
       "      <td>0.137440</td>\n",
       "      <td>0.490005</td>\n",
       "      <td>0.145738</td>\n",
       "      <td>...</td>\n",
       "      <td>0.274680</td>\n",
       "      <td>0.582026</td>\n",
       "      <td>0.348084</td>\n",
       "      <td>0.512787</td>\n",
       "      <td>0.333780</td>\n",
       "      <td>0.456529</td>\n",
       "      <td>0.316005</td>\n",
       "      <td>0.518531</td>\n",
       "      <td>0.316813</td>\n",
       "      <td>0.562813</td>\n",
       "    </tr>\n",
       "    <tr>\n",
       "      <th>3</th>\n",
       "      <td>A</td>\n",
       "      <td>0.279732</td>\n",
       "      <td>0.712749</td>\n",
       "      <td>0.201310</td>\n",
       "      <td>0.678644</td>\n",
       "      <td>0.148360</td>\n",
       "      <td>0.590645</td>\n",
       "      <td>0.135247</td>\n",
       "      <td>0.505878</td>\n",
       "      <td>0.141039</td>\n",
       "      <td>...</td>\n",
       "      <td>0.277107</td>\n",
       "      <td>0.602315</td>\n",
       "      <td>0.352835</td>\n",
       "      <td>0.531379</td>\n",
       "      <td>0.336475</td>\n",
       "      <td>0.478484</td>\n",
       "      <td>0.318234</td>\n",
       "      <td>0.543219</td>\n",
       "      <td>0.320703</td>\n",
       "      <td>0.586086</td>\n",
       "    </tr>\n",
       "    <tr>\n",
       "      <th>4</th>\n",
       "      <td>A</td>\n",
       "      <td>0.284663</td>\n",
       "      <td>0.798926</td>\n",
       "      <td>0.200702</td>\n",
       "      <td>0.764891</td>\n",
       "      <td>0.146679</td>\n",
       "      <td>0.655101</td>\n",
       "      <td>0.131680</td>\n",
       "      <td>0.565122</td>\n",
       "      <td>0.123416</td>\n",
       "      <td>...</td>\n",
       "      <td>0.283704</td>\n",
       "      <td>0.684408</td>\n",
       "      <td>0.366819</td>\n",
       "      <td>0.612347</td>\n",
       "      <td>0.353867</td>\n",
       "      <td>0.560551</td>\n",
       "      <td>0.330440</td>\n",
       "      <td>0.634873</td>\n",
       "      <td>0.330158</td>\n",
       "      <td>0.680105</td>\n",
       "    </tr>\n",
       "  </tbody>\n",
       "</table>\n",
       "<p>5 rows × 43 columns</p>\n",
       "</div>"
      ],
      "text/plain": [
       "  class        x1        y1        x2        y2        x3        y3        x4  \\\n",
       "0     A  0.281764  0.671522  0.204047  0.639323  0.147865  0.556267  0.133358   \n",
       "1     A  0.278017  0.675250  0.204052  0.645245  0.150402  0.564618  0.135634   \n",
       "2     A  0.279680  0.687465  0.202689  0.655011  0.150701  0.573287  0.137440   \n",
       "3     A  0.279732  0.712749  0.201310  0.678644  0.148360  0.590645  0.135247   \n",
       "4     A  0.284663  0.798926  0.200702  0.764891  0.146679  0.655101  0.131680   \n",
       "\n",
       "         y4        x5  ...       x17       y17       x18       y18       x19  \\\n",
       "0  0.469837  0.145107  ...  0.273103  0.561311  0.349547  0.489717  0.332381   \n",
       "1  0.477829  0.144139  ...  0.274935  0.559956  0.346485  0.494998  0.332420   \n",
       "2  0.490005  0.145738  ...  0.274680  0.582026  0.348084  0.512787  0.333780   \n",
       "3  0.505878  0.141039  ...  0.277107  0.602315  0.352835  0.531379  0.336475   \n",
       "4  0.565122  0.123416  ...  0.283704  0.684408  0.366819  0.612347  0.353867   \n",
       "\n",
       "        y19       x20       y20       x21       y21  \n",
       "0  0.433374  0.315082  0.499471  0.318164  0.542502  \n",
       "1  0.436448  0.315069  0.500735  0.316826  0.542522  \n",
       "2  0.456529  0.316005  0.518531  0.316813  0.562813  \n",
       "3  0.478484  0.318234  0.543219  0.320703  0.586086  \n",
       "4  0.560551  0.330440  0.634873  0.330158  0.680105  \n",
       "\n",
       "[5 rows x 43 columns]"
      ]
     },
     "execution_count": 2,
     "metadata": {},
     "output_type": "execute_result"
    }
   ],
   "source": [
    "dataset = pd.read_csv('./alpha_test.csv')\n",
    "\n",
    "# Show dataset first four data\n",
    "dataset.head()"
   ]
  },
  {
   "cell_type": "code",
   "execution_count": 3,
   "metadata": {},
   "outputs": [
    {
     "data": {
      "text/plain": [
       "M    70\n",
       "R    70\n",
       "L    70\n",
       "C    70\n",
       "O    70\n",
       "N    70\n",
       "I    70\n",
       "F    70\n",
       "A    70\n",
       "U    70\n",
       "H    70\n",
       "D    70\n",
       "S    70\n",
       "P    70\n",
       "T    70\n",
       "W    70\n",
       "E    70\n",
       "K    70\n",
       "Y    70\n",
       "B    70\n",
       "G    70\n",
       "X    70\n",
       "V    68\n",
       "Q    66\n",
       "Name: class, dtype: int64"
      ]
     },
     "execution_count": 3,
     "metadata": {},
     "output_type": "execute_result"
    }
   ],
   "source": [
    "# Show dataset overview, should return 1000 for each alphabet (excluding y and z)\n",
    "dataset['class'].value_counts()"
   ]
  },
  {
   "cell_type": "markdown",
   "metadata": {},
   "source": [
    "# 2. Creating Train and Test Data\n",
    "- We use *train_test_split* since we don't really have test dataset.\n",
    "- Normalizing dataset can be ignored, since we predict our data directly using raw handlandmark. "
   ]
  },
  {
   "cell_type": "code",
   "execution_count": 4,
   "metadata": {},
   "outputs": [],
   "source": [
    "# Defining X and Y from dataset for training and testing\n",
    "\n",
    "X = dataset.iloc[:, 1:].values\n",
    "Y = dataset.iloc[:, 0].values"
   ]
  },
  {
   "cell_type": "code",
   "execution_count": 5,
   "metadata": {},
   "outputs": [],
   "source": [
    "from sklearn.model_selection import train_test_split\n",
    "\n",
    "# We will take 33% from 1000 for our test data.\n",
    "# Recommended value 80:20, 67:33, 50:50\n",
    "X_train, X_test, y_train, y_test = train_test_split(X, Y, test_size=0.33)"
   ]
  },
  {
   "cell_type": "code",
   "execution_count": 6,
   "metadata": {},
   "outputs": [],
   "source": [
    "# Normalize / Standarize dataset\n",
    "\n",
    "# from sklearn.preprocessing import StandardScaler\n",
    "# scaler = StandardScaler()\n",
    "# scaler.fit(X_train)\n",
    "\n",
    "# X_train = scaler.transform(X_train)\n",
    "# X_test = scaler.transform(X_test)"
   ]
  },
  {
   "cell_type": "markdown",
   "metadata": {},
   "source": [
    "# 3. Creating classifier model for our alphabet recognition.\n",
    "- *n_neighbors* can be adjusted as we provide graph for mean errors for each *n_neighbors*"
   ]
  },
  {
   "cell_type": "code",
   "execution_count": 7,
   "metadata": {},
   "outputs": [
    {
     "data": {
      "text/plain": [
       "KNeighborsClassifier(n_neighbors=3)"
      ]
     },
     "execution_count": 7,
     "metadata": {},
     "output_type": "execute_result"
    }
   ],
   "source": [
    "from sklearn.neighbors import KNeighborsClassifier\n",
    "classifier = KNeighborsClassifier(n_neighbors=3)\n",
    "classifier.fit(X_train, y_train)"
   ]
  },
  {
   "cell_type": "markdown",
   "metadata": {},
   "source": [
    "# 4. Calculate model accuracy"
   ]
  },
  {
   "cell_type": "code",
   "execution_count": 8,
   "metadata": {},
   "outputs": [],
   "source": [
    "y_pred = classifier.predict(X_test)"
   ]
  },
  {
   "cell_type": "code",
   "execution_count": 9,
   "metadata": {},
   "outputs": [
    {
     "name": "stdout",
     "output_type": "stream",
     "text": [
      "              precision    recall  f1-score   support\n",
      "\n",
      "           A       1.00      1.00      1.00        21\n",
      "           B       0.95      0.78      0.86        27\n",
      "           C       0.90      0.86      0.88        21\n",
      "           D       0.83      0.90      0.86        21\n",
      "           E       0.86      0.86      0.86        21\n",
      "           F       0.88      0.92      0.90        25\n",
      "           G       0.74      0.87      0.80        23\n",
      "           H       1.00      0.77      0.87        22\n",
      "           I       0.89      1.00      0.94        16\n",
      "           K       0.94      0.94      0.94        31\n",
      "           L       0.95      0.91      0.93        23\n",
      "           M       0.82      0.82      0.82        17\n",
      "           N       0.78      0.95      0.86        19\n",
      "           O       0.96      0.96      0.96        24\n",
      "           P       1.00      1.00      1.00        27\n",
      "           Q       1.00      0.96      0.98        24\n",
      "           R       0.91      0.71      0.80        28\n",
      "           S       0.96      0.92      0.94        24\n",
      "           T       0.88      0.81      0.85        27\n",
      "           U       0.65      0.88      0.75        17\n",
      "           V       0.78      0.82      0.80        17\n",
      "           W       0.84      1.00      0.91        21\n",
      "           X       0.90      0.84      0.87        31\n",
      "           Y       1.00      1.00      1.00        26\n",
      "\n",
      "    accuracy                           0.89       553\n",
      "   macro avg       0.89      0.90      0.89       553\n",
      "weighted avg       0.90      0.89      0.89       553\n",
      "\n",
      "0.8933092224231465\n"
     ]
    }
   ],
   "source": [
    "from sklearn.metrics import classification_report, accuracy_score\n",
    "print(classification_report(y_test, y_pred))\n",
    "print(accuracy_score(y_test, y_pred))"
   ]
  },
  {
   "cell_type": "markdown",
   "metadata": {},
   "source": [
    "# 5. Show graph for adjusting number of *n_neighbors*"
   ]
  },
  {
   "cell_type": "code",
   "execution_count": 10,
   "metadata": {},
   "outputs": [],
   "source": [
    "error = []\n",
    "\n",
    "# Calculating error for K values between 1 and 40\n",
    "for i in range(1, 40):\n",
    "    knn = KNeighborsClassifier(n_neighbors=i)\n",
    "    knn.fit(X_train, y_train)\n",
    "    pred_i = knn.predict(X_test)\n",
    "    error.append(np.mean(pred_i != y_test))"
   ]
  },
  {
   "cell_type": "code",
   "execution_count": 11,
   "metadata": {},
   "outputs": [
    {
     "data": {
      "text/plain": [
       "Text(0, 0.5, 'Mean Error')"
      ]
     },
     "execution_count": 11,
     "metadata": {},
     "output_type": "execute_result"
    },
    {
     "data": {
      "image/png": "[encoded data removed]",
      "text/plain": [
       "<Figure size 864x432 with 1 Axes>"
      ]
     },
     "metadata": {
      "needs_background": "light"
     },
     "output_type": "display_data"
    }
   ],
   "source": [
    "import matplotlib.pyplot as plt\n",
    "\n",
    "plt.figure(figsize=(12, 6))\n",
    "plt.plot(range(1, 40), error, color='red', linestyle='dashed', marker='o',\n",
    "         markerfacecolor='blue', markersize=10)\n",
    "plt.title('Error Rate K Value')\n",
    "plt.xlabel('K Value')\n",
    "plt.ylabel('Mean Error')"
   ]
  },
  {
   "cell_type": "markdown",
   "metadata": {},
   "source": [
    "# 6. Intialize Mediapipe Hands for alphabet recognition."
   ]
  },
  {
   "cell_type": "code",
   "execution_count": 12,
   "metadata": {},
   "outputs": [],
   "source": [
    "# Initialize mediapipe hand\n",
    "\n",
    "mp_drawing = mp.solutions.drawing_utils\n",
    "mp_hands = mp.solutions.hands"
   ]
  },
  {
   "cell_type": "code",
   "execution_count": 13,
   "metadata": {},
   "outputs": [],
   "source": [
    "# Initialize mediapipe hand capture webcam\n",
    "\n",
    "cap = cv2.VideoCapture(0)\n",
    "with mp_hands.Hands(\n",
    "    max_num_hands = 1,\n",
    "    min_detection_confidence=0.5,\n",
    "    min_tracking_confidence=0.5) as hands:\n",
    "    while cap.isOpened():\n",
    "        success, image = cap.read()\n",
    "\n",
    "        if not success:\n",
    "            print(\"Ignoring empty camera frame.\")\n",
    "            # If loading a video, use 'break' instead of 'continue'.\n",
    "            continue\n",
    "\n",
    "        # Flip the image horizontally for a later selfie-view display, and convert\n",
    "        # the BGR image to RGB.\n",
    "        image = cv2.cvtColor(cv2.flip(image, 1), cv2.COLOR_BGR2RGB)\n",
    "\n",
    "        # To improve performance, optionally mark the image as not writeable to\n",
    "        # pass by reference.\n",
    "        image.flags.writeable = False\n",
    "        results = hands.process(image)\n",
    "\n",
    "        # Draw the hand annotations on the image.\n",
    "        image.flags.writeable = True\n",
    "        image = cv2.cvtColor(image, cv2.COLOR_RGB2BGR)\n",
    "        if results.multi_hand_landmarks:\n",
    "            for hand_landmarks in results.multi_hand_landmarks:\n",
    "                coords = hand_landmarks.landmark\n",
    "                mp_drawing.draw_landmarks(image, hand_landmarks, mp_hands.HAND_CONNECTIONS)\n",
    "                coords = list(np.array([[landmark.x, landmark.y] for landmark in coords]).flatten())\n",
    "                \n",
    "                # Alternative for dataset using z coordinates.\n",
    "                # Z coordinates is not recommended, since you need to adjust your distance from camera.\n",
    "#                 coords = list(np.array([[landmark.x, landmark.y, landmark.z] for landmark in coords]).flatten())\n",
    "                \n",
    "                predicted = classifier.predict([coords])\n",
    "\n",
    "            # Get status box\n",
    "            cv2.rectangle(image, (0,0), (100, 60), (245, 90, 16), -1)\n",
    "\n",
    "            # Display Class\n",
    "            cv2.putText(image, 'CLASS'\n",
    "                        , (20,15), cv2.FONT_HERSHEY_SIMPLEX, 0.5, (0, 0, 0), 1, cv2.LINE_AA)\n",
    "            cv2.putText(image, str(predicted[0])\n",
    "                        , (20,45), cv2.FONT_HERSHEY_SIMPLEX, 1, (255, 255, 255), 2, cv2.LINE_AA)\n",
    "\n",
    "        cv2.imshow('MediaPipe Hands', image)\n",
    "\n",
    "        # Press esc to close webcam\n",
    "        if cv2.waitKey(5) & 0xFF == 27:\n",
    "            break\n",
    "cap.release()\n",
    "cv2.destroyAllWindows()\n"
   ]
  },
  {
   "cell_type": "code",
   "execution_count": null,
   "metadata": {},
   "outputs": [],
   "source": []
  }
 ],
 "metadata": {
  "kernelspec": {
   "display_name": "Python 3",
   "language": "python",
   "name": "python3"
  },
  "language_info": {
   "codemirror_mode": {
    "name": "ipython",
    "version": 3
   },
   "file_extension": ".py",
   "mimetype": "text/x-python",
   "name": "python",
   "nbconvert_exporter": "python",
   "pygments_lexer": "ipython3",
   "version": "3.8.5"
  }
 },
 "nbformat": 4,
 "nbformat_minor": 4
}
